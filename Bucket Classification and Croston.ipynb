{
 "cells": [
  {
   "cell_type": "code",
   "execution_count": 3,
   "id": "a5f6102b",
   "metadata": {},
   "outputs": [],
   "source": [
    "# Required Libraries\n",
    "import matplotlib.pyplot as plt\n",
    "plt.style.use('bmh')\n",
    "import numpy as np\n",
    "import pandas as pd"
   ]
  },
  {
   "cell_type": "code",
   "execution_count": 4,
   "id": "7eca6b0d",
   "metadata": {},
   "outputs": [],
   "source": [
    "# Function: Plot TS\n",
    "def plot_int_demand(ts, test = [], size_x = 10, size_y = 10, bar_width = 1, prediction = []):\n",
    "    plt.figure(figsize = (size_x, size_y))\n",
    "    plt.xticks(rotation = 90)\n",
    "    plt.rcParams.update({'font.size': 9}) \n",
    "    plt.scatter(ts[ts > 0].index.to_pydatetime(), ts[ts > 0], color = 'k', alpha = 0.7, marker = 's')\n",
    "    plt.bar(ts[ts > 0].index.to_pydatetime(), ts[ts > 0], width = bar_width, color = 'purple', alpha = 0.3)\n",
    "    if (len(test) > 0):\n",
    "      plt.scatter(test[test > 0].index.to_pydatetime(), test[test > 0], color = 'k', alpha = 0.7, marker = 's')\n",
    "      plt.bar(test[test > 0].index.to_pydatetime(), test[test > 0], width = bar_width, color = 'blue', alpha = 0.3)\n",
    "    if (len(prediction) > 0):\n",
    "        plt.scatter(prediction[:ts.shape[0]][prediction > 0].index.to_pydatetime(), prediction[:ts.shape[0]][prediction > 0], c = 'orange')\n",
    "        plt.plot(prediction[:ts.shape[0]].index.to_pydatetime(), prediction[:ts.shape[0]], c = 'red')\n",
    "        plt.scatter(prediction[ts.shape[0]:][prediction > 0].index.to_pydatetime(), prediction[ts.shape[0]:][prediction > 0], c = 'green')\n",
    "    return"
   ]
  },
  {
   "cell_type": "code",
   "execution_count": 5,
   "id": "137722f7",
   "metadata": {},
   "outputs": [],
   "source": [
    "# Function: V & Q\n",
    "def v_q_values(ts):\n",
    "    v = ts[ts > 0]\n",
    "    q  = []\n",
    "    x1 = 1\n",
    "    for i in range(0, ts.shape[0]):\n",
    "        if (ts[i] > 0):\n",
    "            x2 = i+1\n",
    "            zeros = (ts[x1:x2] == 0).sum(axis = 0)\n",
    "            if (zeros >= 0):\n",
    "                q.append(zeros)\n",
    "                x1 = x2-1\n",
    "    return v, np.asarray(q)"
   ]
  },
  {
   "cell_type": "code",
   "execution_count": 7,
   "id": "0fffc13c",
   "metadata": {},
   "outputs": [],
   "source": [
    "# Function: Classification\n",
    "def classification(ts):\n",
    "    v, q         = v_q_values(ts)\n",
    "    adi          = sum(q)/len(v)\n",
    "    cv_squared   = ( sum( ( (v - ts.mean() )**2)/ len(ts) )/ ts.mean() )\n",
    "    f_type = 'Smooth'\n",
    "    if (adi > 1.32 and cv_squared < 0.49 ):\n",
    "      f_type = 'Intermittent'\n",
    "    elif (adi > 1.32 and cv_squared > 0.49 ):\n",
    "      f_type = 'Lumpy'\n",
    "    elif (adi < 1.32 and cv_squared > 0.49 ):\n",
    "      f_type = 'Erratic'\n",
    "    print('ADI: ', round(adi, 3), ', CV: ', round(cv_squared, 3), ', Type: ', f_type)\n",
    "    return adi, cv_squared"
   ]
  },
  {
   "cell_type": "code",
   "execution_count": 8,
   "id": "874b753e",
   "metadata": {},
   "outputs": [],
   "source": [
    "# Function: MASE (Mean Absolute Scaled Error)\n",
    "def mase(ts, prediction):\n",
    "    divisor = 0\n",
    "    for i in range(1, ts.shape[0]):\n",
    "        divisor = divisor + abs(ts[i] - ts[i-1])\n",
    "    divisor = divisor/(ts.shape[0] - 1)\n",
    "    diff    = abs(ts - prediction[:ts.shape[0]])/divisor\n",
    "    mase    = diff.mean()\n",
    "    return mase\n",
    "\n",
    "# Function: RMSE (Root Mean Squared Error)\n",
    "def rmse(ts, prediction):\n",
    "    diff = (ts - prediction[:ts.shape[0]])**2\n",
    "    mse  = diff.mean()\n",
    "    return mse**(1/2)"
   ]
  },
  {
   "cell_type": "code",
   "execution_count": 9,
   "id": "618ace7d",
   "metadata": {},
   "outputs": [],
   "source": [
    "# Function: Croston Method ( https://doi.org/10.2307/3007885 )\n",
    "def croston_method(ts, alpha = 0.1, n_steps = 1):\n",
    "    v, q = v_q_values(ts)\n",
    "    v_i  = ts.copy(deep = True)\n",
    "    q_i  = ts.copy(deep = True)\n",
    "    f_i  = ts.copy(deep = True)\n",
    "    v_i.values[:] = 0\n",
    "    q_i.values[:] = 0\n",
    "    f_i.values[:] = 0\n",
    "    date_idx      = ts.index  \n",
    "    v_i[0]        = ts[0]  \n",
    "    q_i[0]        = 1 \n",
    "    f_i[0]        = v_i[0]/q_i[0]\n",
    "    for i in range(0, ts.shape[0]-1):\n",
    "        if (ts[i] > 0):\n",
    "            idx_1 = ts.index.get_loc(date_idx[i])\n",
    "            idx_2 =  v.index.get_loc(date_idx[i])\n",
    "            v_i[idx_1+1] = alpha*v[idx_2] + (1 - alpha)*v_i[idx_1]\n",
    "            q_i[idx_1+1] = alpha*q[idx_2] + (1 - alpha)*q_i[idx_1]\n",
    "            if (q_i[idx_1+1] != 0):\n",
    "                f_i[idx_1+1] = v_i[idx_1+1]/q_i[idx_1+1]\n",
    "            else:\n",
    "                f_i[idx_1+1] = v_i[idx_1]\n",
    "        else:\n",
    "            idx_1 = ts.index.get_loc(date_idx[i])\n",
    "            v_i[idx_1+1] = v_i[idx_1]\n",
    "            q_i[idx_1+1] = q_i[idx_1]\n",
    "            if (q_i[idx_1+1] != 0):\n",
    "                f_i[idx_1+1] = v_i[idx_1+1]/q_i[idx_1+1]\n",
    "            else:\n",
    "                f_i[idx_1+1] = v_i[idx_1]\n",
    "    idx = pd.date_range(f_i.index[-1], periods = n_steps, freq = '1d')[1:]\n",
    "    f_i = f_i.append(pd.Series(np.repeat(f_i[-1], len(idx)), index = idx))    \n",
    "    return v_i, q_i, f_i"
   ]
  },
  {
   "cell_type": "code",
   "execution_count": 23,
   "id": "b590507e",
   "metadata": {},
   "outputs": [
    {
     "data": {
      "text/html": [
       "<div>\n",
       "<style scoped>\n",
       "    .dataframe tbody tr th:only-of-type {\n",
       "        vertical-align: middle;\n",
       "    }\n",
       "\n",
       "    .dataframe tbody tr th {\n",
       "        vertical-align: top;\n",
       "    }\n",
       "\n",
       "    .dataframe thead th {\n",
       "        text-align: right;\n",
       "    }\n",
       "</style>\n",
       "<table border=\"1\" class=\"dataframe\">\n",
       "  <thead>\n",
       "    <tr style=\"text-align: right;\">\n",
       "      <th></th>\n",
       "      <th>DATE</th>\n",
       "      <th>Value</th>\n",
       "    </tr>\n",
       "  </thead>\n",
       "  <tbody>\n",
       "    <tr>\n",
       "      <th>0</th>\n",
       "      <td>21-08-2020</td>\n",
       "      <td>5</td>\n",
       "    </tr>\n",
       "    <tr>\n",
       "      <th>1</th>\n",
       "      <td>22-08-2020</td>\n",
       "      <td>0</td>\n",
       "    </tr>\n",
       "    <tr>\n",
       "      <th>2</th>\n",
       "      <td>23-08-2020</td>\n",
       "      <td>0</td>\n",
       "    </tr>\n",
       "    <tr>\n",
       "      <th>3</th>\n",
       "      <td>24-08-2020</td>\n",
       "      <td>5</td>\n",
       "    </tr>\n",
       "    <tr>\n",
       "      <th>4</th>\n",
       "      <td>25-08-2020</td>\n",
       "      <td>0</td>\n",
       "    </tr>\n",
       "    <tr>\n",
       "      <th>5</th>\n",
       "      <td>26-08-2020</td>\n",
       "      <td>0</td>\n",
       "    </tr>\n",
       "    <tr>\n",
       "      <th>6</th>\n",
       "      <td>27-08-2020</td>\n",
       "      <td>7</td>\n",
       "    </tr>\n",
       "    <tr>\n",
       "      <th>7</th>\n",
       "      <td>28-08-2020</td>\n",
       "      <td>0</td>\n",
       "    </tr>\n",
       "    <tr>\n",
       "      <th>8</th>\n",
       "      <td>29-08-2020</td>\n",
       "      <td>6</td>\n",
       "    </tr>\n",
       "    <tr>\n",
       "      <th>9</th>\n",
       "      <td>30-08-2020</td>\n",
       "      <td>0</td>\n",
       "    </tr>\n",
       "    <tr>\n",
       "      <th>10</th>\n",
       "      <td>31-08-2020</td>\n",
       "      <td>6</td>\n",
       "    </tr>\n",
       "    <tr>\n",
       "      <th>11</th>\n",
       "      <td>09-01-2020</td>\n",
       "      <td>0</td>\n",
       "    </tr>\n",
       "  </tbody>\n",
       "</table>\n",
       "</div>"
      ],
      "text/plain": [
       "          DATE  Value\n",
       "0   21-08-2020      5\n",
       "1   22-08-2020      0\n",
       "2   23-08-2020      0\n",
       "3   24-08-2020      5\n",
       "4   25-08-2020      0\n",
       "5   26-08-2020      0\n",
       "6   27-08-2020      7\n",
       "7   28-08-2020      0\n",
       "8   29-08-2020      6\n",
       "9   30-08-2020      0\n",
       "10  31-08-2020      6\n",
       "11  09-01-2020      0"
      ]
     },
     "execution_count": 23,
     "metadata": {},
     "output_type": "execute_result"
    }
   ],
   "source": [
    "# Load Dataset\n",
    "data = {\n",
    "        'DATE': pd.Series(['21/08/2020','22/08/2020', '23/08/2020', '24/08/2020', '25/08/2020', '26/08/2020', '27/08/2020', '28/08/2020', '29/08/2020', '30/08/2020', '31/08/2020', '01/09/2020']),\n",
    "       'Value': pd.Series([5, 0, 0, 5, 0, 0, 7, 0, 6, 0, 6, 0]),\n",
    "       }\n",
    "dataset = pd.DataFrame(data)\n",
    "dataset['DATE'] = pd.to_datetime(dataset['DATE']).map(lambda x: x.strftime('%d-%m-%Y'))\n",
    "dataset"
   ]
  },
  {
   "cell_type": "code",
   "execution_count": 24,
   "id": "5b4683d9",
   "metadata": {},
   "outputs": [
    {
     "name": "stdout",
     "output_type": "stream",
     "text": [
      "\n",
      "Total Number of Observations:  12\n",
      "Total Number of Zeros:  7\n",
      "Start Date:  2020-08-21 00:00:00\n",
      "End Date:  2020-09-01 00:00:00\n",
      "\n"
     ]
    }
   ],
   "source": [
    "# Prepare Time Series TS\n",
    "ts       = dataset['Value'].copy(deep = True)\n",
    "ts.index = pd.DatetimeIndex(dataset['DATE'])\n",
    "ts       = ts.sort_index()\n",
    "ts       = ts.reindex(pd.date_range(ts.index.min(), ts.index.max()), fill_value = 0)\n",
    "ts       = ts.loc[ts[(ts != 0)].first_valid_index():]\n",
    "\n",
    "print('')\n",
    "print('Total Number of Observations: ', ts.shape[0])\n",
    "print('Total Number of Zeros: ', len(ts[ts == 0]))\n",
    "print('Start Date: ', ts.index[0])\n",
    "print('End Date: '  , ts.index[-1])\n",
    "print('')"
   ]
  },
  {
   "cell_type": "code",
   "execution_count": 25,
   "id": "ed7ac4d6",
   "metadata": {},
   "outputs": [
    {
     "name": "stdout",
     "output_type": "stream",
     "text": [
      "ADI:  1.2 , CV:  2.07 , Type:  Erratic\n"
     ]
    }
   ],
   "source": [
    "# Time Series Classification\n",
    "adi, cv_sq = classification(ts)"
   ]
  },
  {
   "cell_type": "code",
   "execution_count": 26,
   "id": "f21ca318",
   "metadata": {},
   "outputs": [
    {
     "data": {
      "image/png": "[encoded data removed]",
      "text/plain": [
       "<Figure size 1080x720 with 1 Axes>"
      ]
     },
     "metadata": {
      "needs_background": "light"
     },
     "output_type": "display_data"
    }
   ],
   "source": [
    "# Time Series Plot\n",
    "plot_int_demand(ts, size_x = 15, size_y = 10, bar_width = 0.3)"
   ]
  },
  {
   "cell_type": "code",
   "execution_count": 30,
   "id": "6f3e4eac",
   "metadata": {},
   "outputs": [
    {
     "data": {
      "image/png": "[encoded data removed]",
      "text/plain": [
       "<Figure size 1080x720 with 1 Axes>"
      ]
     },
     "metadata": {
      "needs_background": "light"
     },
     "output_type": "display_data"
    }
   ],
   "source": [
    "# Croston\n",
    "v, q, forecast = croston_method(ts, alpha = 0.5, n_steps = 10)\n",
    "plot_int_demand(ts, size_x = 15, size_y = 10, bar_width = 0.3, prediction = forecast)"
   ]
  },
  {
   "cell_type": "code",
   "execution_count": 31,
   "id": "c7fc6308",
   "metadata": {},
   "outputs": [
    {
     "data": {
      "text/plain": [
       "2020-08-21    5\n",
       "2020-08-22    5\n",
       "2020-08-23    5\n",
       "2020-08-24    5\n",
       "2020-08-25    5\n",
       "2020-08-26    5\n",
       "2020-08-27    5\n",
       "2020-08-28    6\n",
       "2020-08-29    6\n",
       "2020-08-30    6\n",
       "2020-08-31    6\n",
       "2020-09-01    6\n",
       "2020-09-02    6\n",
       "2020-09-03    6\n",
       "2020-09-04    6\n",
       "2020-09-05    6\n",
       "2020-09-06    6\n",
       "2020-09-07    6\n",
       "2020-09-08    6\n",
       "2020-09-09    6\n",
       "2020-09-10    6\n",
       "Freq: D, dtype: int64"
      ]
     },
     "execution_count": 31,
     "metadata": {},
     "output_type": "execute_result"
    }
   ],
   "source": [
    "forecast"
   ]
  },
  {
   "cell_type": "code",
   "execution_count": 28,
   "id": "8b872652",
   "metadata": {},
   "outputs": [
    {
     "name": "stdout",
     "output_type": "stream",
     "text": [
      "MASE =  0.692 , RMSE =  4.203\n"
     ]
    }
   ],
   "source": [
    "# Error\n",
    "print('MASE = ', round(mase(ts, forecast), 3), ', RMSE = ', round(rmse(ts, forecast), 3))"
   ]
  },
  {
   "cell_type": "code",
   "execution_count": null,
   "id": "b31528a8",
   "metadata": {},
   "outputs": [],
   "source": []
  }
 ],
 "metadata": {
  "kernelspec": {
   "display_name": "Python 3",
   "language": "python",
   "name": "python3"
  },
  "language_info": {
   "codemirror_mode": {
    "name": "ipython",
    "version": 3
   },
   "file_extension": ".py",
   "mimetype": "text/x-python",
   "name": "python",
   "nbconvert_exporter": "python",
   "pygments_lexer": "ipython3",
   "version": "3.8.8"
  }
 },
 "nbformat": 4,
 "nbformat_minor": 5
}
